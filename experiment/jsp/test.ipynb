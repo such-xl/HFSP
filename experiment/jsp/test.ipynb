{
 "cells": [
  {
   "cell_type": "code",
   "execution_count": 4,
   "metadata": {},
   "outputs": [],
   "source": [
    "import pandas as pd\n",
    "import numpy as np\n",
    "import json\n",
    "\n",
    "with open(\"my_resurt.json\", \"r\") as f:\n",
    "    my_resurt = json.load(f)\n",
    "def process(ur):\n",
    "    data_from = [\"EDD\",\"MS\",\"SRO\",\"CR\",\"RL\"]\n",
    "    df_dict = pd.read_excel(f'result_{ur}.xlsx',sheet_name=[\"sum\",\"maximum\",\"tardy rate\"])\n",
    "    df_sum = df_dict[\"sum\"]\n",
    "    df_maximum = df_dict[\"maximum\"]\n",
    "    df_tard_rate = df_dict[\"tardy rate\"]\n",
    "    ur_data = my_resurt[str(ur)]\n",
    "    mydata = np.array([ur_data[f\"{x}\"] for x in data_from])\n",
    "    my_maximum = np.max(mydata,axis=-1)\n",
    "    my_sum = np.sum(mydata, axis=-1)\n",
    "    # 统计最后一维的非零元素的数量\n",
    "    non_zero_counts = np.count_nonzero(mydata, axis=-1)\n",
    "    # 计算非零概率：非零数量 / 总元素数量\n",
    "    my_tard_rate = non_zero_counts / mydata.shape[-1]\n",
    "    for i,data_f in enumerate(data_from):\n",
    "        df_sum[f\"{data_f}\"] = my_sum[i,:]\n",
    "        df_maximum[f\"{data_f}\"] = my_maximum[i,:]\n",
    "        df_tard_rate[f\"{data_f}\"] = my_tard_rate[i,:]\n",
    "\n",
    "    with pd.ExcelWriter(f'my_result_{ur}.xlsx') as writer:\n",
    "        df_sum.to_excel(writer, sheet_name='sum', index=False)\n",
    "        df_maximum.to_excel(writer, sheet_name='maximum', index=False)\n",
    "        df_tard_rate.to_excel(writer, sheet_name='tardy rate', index=False)"
   ]
  },
  {
   "cell_type": "code",
   "execution_count": 5,
   "metadata": {},
   "outputs": [],
   "source": [
    "process(70)\n",
    "process(80)\n",
    "process(90)\n"
   ]
  },
  {
   "cell_type": "code",
   "execution_count": null,
   "metadata": {},
   "outputs": [],
   "source": []
  },
  {
   "cell_type": "code",
   "execution_count": 20,
   "metadata": {},
   "outputs": [],
   "source": [
    "with pd.ExcelWriter('result_70_modified.xlsx') as writer:\n",
    "    df_sum.to_excel(writer, sheet_name='sum', index=False)\n",
    "    df_maximum.to_excel(writer, sheet_name='maximum', index=False)"
   ]
  }
 ],
 "metadata": {
  "kernelspec": {
   "display_name": "rl",
   "language": "python",
   "name": "python3"
  },
  "language_info": {
   "codemirror_mode": {
    "name": "ipython",
    "version": 3
   },
   "file_extension": ".py",
   "mimetype": "text/x-python",
   "name": "python",
   "nbconvert_exporter": "python",
   "pygments_lexer": "ipython3",
   "version": "3.11.9"
  }
 },
 "nbformat": 4,
 "nbformat_minor": 2
}

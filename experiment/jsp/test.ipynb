{
 "cells": [
  {
   "cell_type": "code",
   "execution_count": null,
   "metadata": {},
   "outputs": [],
   "source": [
    "import pandas as pd\n",
    "import numpy as np\n",
    "import json\n",
    "\n",
    "with open(\"resurt_all.json\", \"r\") as f:\n",
    "    my_resurt = json.load(f)\n",
    "data_tards = my_resurt\n",
    "def process_tard(ur):\n",
    "    data_from = [\"RL\"]\n",
    "    df_dict = pd.read_excel(f'result_{ur}.xlsx',sheet_name=[\"sum\",\"maximum\",\"tardy rate\"])\n",
    "    df_sum = df_dict[\"sum\"]\n",
    "    df_maximum = df_dict[\"maximum\"]\n",
    "    df_tard_rate = df_dict[\"tardy rate\"]\n",
    "    ur_data = np.array(data_tards[str(ur)])\n",
    "\n",
    "    maximum = ur_data.max(axis=-1)\n",
    "    sum = ur_data.sum(axis=-1)\n",
    "    print(sum)\n",
    "    # my_maximum = np.max(mydata,axis=-1)\n",
    "    # my_sum = np.sum(mydata, axis=-1)\n",
    "    # # 统计最后一维的非零元素的数量\n",
    "    # non_zero_counts = np.count_nonzero(mydata, axis=-1)\n",
    "    # # 计算非零概率：非零数量 / 总元素数量\n",
    "    # my_tard_rate = non_zero_counts / mydata.shape[-1]\n",
    "    # for i,data_f in enumerate(data_from):\n",
    "    #     df_sum[f\"{data_f}\"] = my_sum[i,:]\n",
    "    #     if data_f == \"RL\":\n",
    "    #         print(my_sum[i, :])\n",
    "    #         print(df_sum[f\"{data_f}\"])\n",
    "    #     df_maximum[f\"{data_f}\"] = my_maximum[i,:]\n",
    "    #     df_tard_rate[f\"{data_f}\"] = my_tard_rate[i,:]\n",
    "\n",
    "    # with pd.ExcelWriter(f'my_tardy_result{ur}.xlsx') as writer:\n",
    "    #     df_sum.to_excel(writer, sheet_name='sum', index=False)\n",
    "    #     df_maximum.to_excel(writer, sheet_name='maximum', index=False)\n",
    "    #     df_tard_rate.to_excel(writer, sheet_name='tardy rate', index=False)"
   ]
  },
  {
   "cell_type": "code",
   "execution_count": 8,
   "metadata": {},
   "outputs": [
    {
     "name": "stdout",
     "output_type": "stream",
     "text": [
      "[356 471 299 538 156 500 362 311 321 231 441 449 369 393 592 535 606 387\n",
      " 503 486 644 147 468 335 290 388 497 453 404 301 433 587 407 550 714  33\n",
      " 445 447 370 375 277 326 222 268 543 300 371 449 390 242 166 384 458 294\n",
      " 440 377 317 448 282 414 556 493 728 329 504 462 246 396 467 704 523 283\n",
      " 322 381   9 266 361 395 448 366 621 509 407 338 126 325 415 495 299 388\n",
      " 450 447 256 353 364 552 546 715 351 443]\n",
      "[250 465 385  28 435 587 286 483 275 268 378 326 481 341 535 344 291 415\n",
      " 419 116 375 541 463 469 388 364 236 358 396 409 467 631 425 333 403 700\n",
      " 286 492 303 347 329 326 452 295 335 227 428 472 342 357 495 536 510 404\n",
      " 556 372 548 427 361 532 517 225 680 516 338 192 401 357 502 396 245 233\n",
      " 543 344 466 623 489 444 372 460 503 362 439 277 600 394 413 527 454 429\n",
      " 423 175 489 434 346 645 383 586 534 395]\n",
      "[412 414 374 422 421 240 544 371 303 352 314 317 323 381 282 246 447 494\n",
      " 555 579 386 444 298 370 406 527 384 384 455 357 562 380 307 380 203 494\n",
      " 422 508 431 504 379 355 316 389 143 547 478 450 387 476 461 242 384 281\n",
      " 469 353 309 559 555 577 554 545 315 371 232 358 456 298 520 647 435 451\n",
      " 471 279 320 518 420 203 228 545 450 340 662 147 308 336 194 585 628 479\n",
      " 419 366 361 419 658 445 482 481 313 165]\n"
     ]
    }
   ],
   "source": [
    "for ur in [70,80,90]:\n",
    "    process_tard(ur)\n"
   ]
  },
  {
   "cell_type": "code",
   "execution_count": null,
   "metadata": {},
   "outputs": [],
   "source": []
  },
  {
   "cell_type": "code",
   "execution_count": null,
   "metadata": {},
   "outputs": [],
   "source": []
  }
 ],
 "metadata": {
  "kernelspec": {
   "display_name": "rl",
   "language": "python",
   "name": "python3"
  },
  "language_info": {
   "codemirror_mode": {
    "name": "ipython",
    "version": 3
   },
   "file_extension": ".py",
   "mimetype": "text/x-python",
   "name": "python",
   "nbconvert_exporter": "python",
   "pygments_lexer": "ipython3",
   "version": "3.11.9"
  }
 },
 "nbformat": 4,
 "nbformat_minor": 2
}

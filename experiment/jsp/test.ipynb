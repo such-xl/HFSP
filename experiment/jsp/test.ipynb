{
 "cells": [
  {
   "cell_type": "code",
   "execution_count": null,
   "metadata": {},
   "outputs": [
    {
     "ename": "KeyError",
     "evalue": "'tards'",
     "output_type": "error",
     "traceback": [
      "\u001b[0;31m---------------------------------------------------------------------------\u001b[0m",
      "\u001b[0;31mKeyError\u001b[0m                                  Traceback (most recent call last)",
      "Cell \u001b[0;32mIn[3], line 8\u001b[0m\n\u001b[1;32m      6\u001b[0m     my_resurt \u001b[38;5;241m=\u001b[39m json\u001b[38;5;241m.\u001b[39mload(f)\n\u001b[1;32m      7\u001b[0m data_ur \u001b[38;5;241m=\u001b[39m my_resurt\n\u001b[0;32m----> 8\u001b[0m data_tards \u001b[38;5;241m=\u001b[39m \u001b[43mmy_resurt\u001b[49m\u001b[43m[\u001b[49m\u001b[38;5;124;43m\"\u001b[39;49m\u001b[38;5;124;43mtards\u001b[39;49m\u001b[38;5;124;43m\"\u001b[39;49m\u001b[43m]\u001b[49m\n\u001b[1;32m      9\u001b[0m \u001b[38;5;28;01mdef\u001b[39;00m \u001b[38;5;21mprocess_tard\u001b[39m(ur):\n\u001b[1;32m     10\u001b[0m     data_from \u001b[38;5;241m=\u001b[39m [\u001b[38;5;124m\"\u001b[39m\u001b[38;5;124mMS\u001b[39m\u001b[38;5;124m\"\u001b[39m,\u001b[38;5;124m\"\u001b[39m\u001b[38;5;124mCR\u001b[39m\u001b[38;5;124m\"\u001b[39m,\u001b[38;5;124m\"\u001b[39m\u001b[38;5;124mSRO\u001b[39m\u001b[38;5;124m\"\u001b[39m,\u001b[38;5;124m\"\u001b[39m\u001b[38;5;124mEDD\u001b[39m\u001b[38;5;124m\"\u001b[39m,\u001b[38;5;124m\"\u001b[39m\u001b[38;5;124mRL\u001b[39m\u001b[38;5;124m\"\u001b[39m]\n",
      "\u001b[0;31mKeyError\u001b[0m: 'tards'"
     ]
    }
   ],
   "source": [
    "import pandas as pd\n",
    "import numpy as np\n",
    "import json\n",
    "\n",
    "with open(\"resurt_all.json\", \"r\") as f:\n",
    "    my_resurt = json.load(f)\n",
    "data_ur = my_resurt\n",
    "data_tards = my_resurt\n",
    "def process_tard(ur):\n",
    "    data_from = [\"MS\",\"CR\",\"SRO\",\"EDD\",\"RL\"]\n",
    "    df_dict = pd.read_excel(f'result_{ur}.xlsx',sheet_name=[\"sum\",\"maximum\",\"tardy rate\"])\n",
    "    df_sum = df_dict[\"sum\"]\n",
    "    df_maximum = df_dict[\"maximum\"]\n",
    "    df_tard_rate = df_dict[\"tardy rate\"]\n",
    "    ur_data = data_tards[str(ur)]\n",
    "    # print(ur_data[\"RL\"])\n",
    "    # print(ur_data[\"MS\"])\n",
    "    # print(ur_data[\"SRO\"])\n",
    "    mydata = np.array([ur_data[f\"{x}\"] for x in data_from])\n",
    "\n",
    "    my_maximum = np.max(mydata,axis=-1)\n",
    "    my_sum = np.sum(mydata, axis=-1)\n",
    "    # 统计最后一维的非零元素的数量\n",
    "    non_zero_counts = np.count_nonzero(mydata, axis=-1)\n",
    "    # 计算非零概率：非零数量 / 总元素数量\n",
    "    my_tard_rate = non_zero_counts / mydata.shape[-1]\n",
    "    for i,data_f in enumerate(data_from):\n",
    "        df_sum[f\"{data_f}\"] = my_sum[i,:]\n",
    "        if data_f == \"RL\":\n",
    "            print(my_sum[i, :])\n",
    "            print(df_sum[f\"{data_f}\"])\n",
    "        df_maximum[f\"{data_f}\"] = my_maximum[i,:]\n",
    "        df_tard_rate[f\"{data_f}\"] = my_tard_rate[i,:]\n",
    "\n",
    "    with pd.ExcelWriter(f'my_tardy_result{ur}.xlsx') as writer:\n",
    "        df_sum.to_excel(writer, sheet_name='sum', index=False)\n",
    "        df_maximum.to_excel(writer, sheet_name='maximum', index=False)\n",
    "        df_tard_rate.to_excel(writer, sheet_name='tardy rate', index=False)"
   ]
  },
  {
   "cell_type": "code",
   "execution_count": null,
   "metadata": {},
   "outputs": [],
   "source": [
    "def process_ur(ur):\n",
    "    data_from = [\"EDD\",\"MS\",\"SRO\",\"CR\",\"noname_2\",\"RL\"]\n",
    "    ur_data = data_ur[str(ur)]\n",
    "    mydata = np.array([ur_data[f\"{x}\"] for x in data_from])\n",
    "    ur_mean = np.mean(mydata, axis=-1)\n",
    "    ur_std = np.std(mydata, axis=-1)\n",
    "    with pd.ExcelWriter(f\"my_ur_result{ur}.xlsx\") as writer:\n",
    "        for idx, arr in enumerate([ur_mean, ur_std]):\n",
    "            df = pd.DataFrame(arr.T, columns=data_from)  # 转置成 [100,6]\n",
    "            df.to_excel(writer, sheet_name=f\"Sheet{idx+1}\", index=False)"
   ]
  },
  {
   "cell_type": "code",
   "execution_count": null,
   "metadata": {},
   "outputs": [
    {
     "name": "stdout",
     "output_type": "stream",
     "text": [
      "[ 784 1203  859  244  931  467 1329  284  155  265  445 1151  242  922\n",
      " 1370 1132 1577  408   53 2139  233  155  672 1352 1176  638  497  382\n",
      "  951 1520 1870  476  315  647   48  280  884  649  593  937  602  276\n",
      "  378  750  299  991 1175  827  405   21  966  435  606  365  935  677\n",
      " 1024  268 1588  301  547 1242  469  287 1743  381  540 1338 1083  501\n",
      "  385  187 1600  215  804  430 1322  522  602  401 1083  419  756  162\n",
      "  619  919 1742 1029  812  835 1247 1257  885  316 1400 1331 1120 1489\n",
      "  866  487]\n",
      "0      784\n",
      "1     1203\n",
      "2      859\n",
      "3      244\n",
      "4      931\n",
      "      ... \n",
      "95    1331\n",
      "96    1120\n",
      "97    1489\n",
      "98     866\n",
      "99     487\n",
      "Name: RL, Length: 100, dtype: int64\n",
      "[ 348  590   62 1252 1231  186  559  788  279  635  280 1715  186  633\n",
      "  328 1098 1369 2602  124 1609  812 1980  444  401  539  539  701 1265\n",
      " 1776  483 1084 1824 1144  540  794  123  654  825  830 1890  403  827\n",
      "  184  999  542  806  692  396  166 3756  326 1170  846  409  712 1052\n",
      " 1587  508 1105 1224  377 2580  376  452  480  332 1828 1179 1408  495\n",
      "   68  694  154  902 1148 2111  365  435  590  294 1039  604  486 1531\n",
      "  807  909 1083 1536  924 1188  394 1432 2208  649  255  580  891  999\n",
      "  816 1128]\n",
      "0      348\n",
      "1      590\n",
      "2       62\n",
      "3     1252\n",
      "4     1231\n",
      "      ... \n",
      "95     580\n",
      "96     891\n",
      "97     999\n",
      "98     816\n",
      "99    1128\n",
      "Name: RL, Length: 100, dtype: int64\n",
      "[ 525  571  596  777  387  204  940  519 2999  545  539  391 2679  251\n",
      "  758 1446 2010  495  597  954 1707  642  993  397  488  457  660 1358\n",
      "  457  693 1500   88 1458   85  321 1337 3114 1321  375 1476  744  960\n",
      "  285  101 2133  267 1151 2144 1261  878  298  620  132  480  673 1106\n",
      " 1410  562 1227  582  408 1890  956 1043  958  230  189  986 1822  344\n",
      "  773  961 1198  867  488 1053  230  473 1097 1216  500  326  162  297\n",
      "  903   51  909 1314  796 1113 1327 1299 1001 1072  410  588 1104  366\n",
      "  572  730]\n",
      "0      525\n",
      "1      571\n",
      "2      596\n",
      "3      777\n",
      "4      387\n",
      "      ... \n",
      "95     588\n",
      "96    1104\n",
      "97     366\n",
      "98     572\n",
      "99     730\n",
      "Name: RL, Length: 100, dtype: int64\n"
     ]
    }
   ],
   "source": [
    "for ur in [70,80,90]:\n",
    "    process_tard(ur)\n"
   ]
  },
  {
   "cell_type": "code",
   "execution_count": null,
   "metadata": {},
   "outputs": [],
   "source": []
  },
  {
   "cell_type": "code",
   "execution_count": null,
   "metadata": {},
   "outputs": [],
   "source": []
  }
 ],
 "metadata": {
  "kernelspec": {
   "display_name": "rl",
   "language": "python",
   "name": "python3"
  },
  "language_info": {
   "codemirror_mode": {
    "name": "ipython",
    "version": 3
   },
   "file_extension": ".py",
   "mimetype": "text/x-python",
   "name": "python",
   "nbconvert_exporter": "python",
   "pygments_lexer": "ipython3",
   "version": "3.11.9"
  }
 },
 "nbformat": 4,
 "nbformat_minor": 2
}

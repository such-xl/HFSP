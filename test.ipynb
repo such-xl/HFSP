{
 "cells": [
  {
   "cell_type": "code",
   "execution_count": 8,
   "metadata": {},
   "outputs": [],
   "source": [
    "import torch\n",
    "\n",
    "arr1 = torch.zeros((10),dtype=torch.float32,device=\"cuda\" if torch.cuda.is_available() else \"cpu\",)\n",
    "arr2 = torch.zeros((10),dtype=torch.float32,device=\"cuda\" if torch.cuda.is_available() else \"cpu\",)\n",
    "for i,k in zip(arr1,arr2):\n",
    "    if i != k:\n",
    "        print(i.item(),k.item())"
   ]
  },
  {
   "cell_type": "code",
   "execution_count": null,
   "metadata": {},
   "outputs": [],
   "source": [
    "\n"
   ]
  }
 ],
 "metadata": {
  "kernelspec": {
   "display_name": "rl",
   "language": "python",
   "name": "python3"
  },
  "language_info": {
   "codemirror_mode": {
    "name": "ipython",
    "version": 3
   },
   "file_extension": ".py",
   "mimetype": "text/x-python",
   "name": "python",
   "nbconvert_exporter": "python",
   "pygments_lexer": "ipython3",
   "version": "3.11.9"
  }
 },
 "nbformat": 4,
 "nbformat_minor": 2
}
